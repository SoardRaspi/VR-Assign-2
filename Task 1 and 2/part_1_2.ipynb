{
 "cells": [
  {
   "cell_type": "markdown",
   "id": "c9a09f22",
   "metadata": {},
   "source": [
    "# PART 1"
   ]
  },
  {
   "cell_type": "code",
   "execution_count": null,
   "id": "b16eea8c",
   "metadata": {},
   "outputs": [],
   "source": [
    "!pip install numpy opencv-python scikit-learn matplotlib"
   ]
  },
  {
   "cell_type": "code",
   "execution_count": null,
   "id": "ca968ee9",
   "metadata": {},
   "outputs": [],
   "source": [
    "!pip install scikit-image seaborn"
   ]
  },
  {
   "cell_type": "code",
   "execution_count": null,
   "id": "2caeff6b",
   "metadata": {},
   "outputs": [],
   "source": [
    "import os\n",
    "import cv2\n",
    "import numpy as np\n",
    "import matplotlib.pyplot as plt\n",
    "\n",
    "import seaborn as sns\n",
    "\n",
    "from skimage.feature import hog\n",
    "\n",
    "from sklearn.model_selection import train_test_split\n",
    "from sklearn.preprocessing import StandardScaler\n",
    "from sklearn.svm import SVC\n",
    "from sklearn.neural_network import MLPClassifier\n",
    "from sklearn.metrics import accuracy_score, confusion_matrix"
   ]
  },
  {
   "cell_type": "code",
   "execution_count": null,
   "id": "400042b1",
   "metadata": {},
   "outputs": [],
   "source": [
    "data_dir = \"/Users/soardr/Desktop/VR Assign 2/data\"\n",
    "categories = [\"with_mask\", \"without_mask\"]\n",
    "images = []\n",
    "labels = []"
   ]
  },
  {
   "cell_type": "code",
   "execution_count": null,
   "id": "bd32e64d",
   "metadata": {},
   "outputs": [],
   "source": [
    "for label, category in enumerate(categories):\n",
    "    folder_path = os.path.join(data_dir, category)\n",
    "    for img_name in os.listdir(folder_path):\n",
    "        img_path = os.path.join(folder_path, img_name)\n",
    "        img = cv2.imread(img_path, cv2.IMREAD_GRAYSCALE)\n",
    "        img = cv2.resize(img, (64, 64))  # Resize for uniformity\n",
    "        images.append(img)\n",
    "        labels.append(label)"
   ]
  },
  {
   "cell_type": "code",
   "execution_count": null,
   "id": "1ce4be8f",
   "metadata": {},
   "outputs": [],
   "source": [
    "images = np.array(images)\n",
    "labels = np.array(labels)"
   ]
  },
  {
   "cell_type": "markdown",
   "id": "a240263d",
   "metadata": {},
   "source": [
    "### HoG features"
   ]
  },
  {
   "cell_type": "code",
   "execution_count": null,
   "id": "3ad44f67",
   "metadata": {},
   "outputs": [],
   "source": [
    "features = []\n",
    "for img in images:\n",
    "    hog_feature = hog(img, pixels_per_cell=(8, 8), cells_per_block=(2, 2), orientations=9)\n",
    "    features.append(hog_feature)\n",
    "\n",
    "features = np.array(features)"
   ]
  },
  {
   "cell_type": "code",
   "execution_count": null,
   "id": "e4076356",
   "metadata": {},
   "outputs": [],
   "source": [
    "def plot_confusion_matrix(y_true, y_pred, title):\n",
    "    cm = confusion_matrix(y_true, y_pred)\n",
    "    plt.figure(figsize=(5, 4))\n",
    "    sns.heatmap(cm, annot=True, fmt='d', cmap='Blues', xticklabels=categories, yticklabels=categories)\n",
    "    plt.xlabel(\"Predicted\")\n",
    "    plt.ylabel(\"Actual\")\n",
    "    plt.title(title)\n",
    "    plt.show()"
   ]
  },
  {
   "cell_type": "markdown",
   "id": "6bf94c14",
   "metadata": {},
   "source": [
    "### Canny Edge features"
   ]
  },
  {
   "cell_type": "code",
   "execution_count": null,
   "id": "0ebc74f0",
   "metadata": {},
   "outputs": [],
   "source": [
    "def extract_edge_features(image):\n",
    "    edges = cv2.Canny(image, 50, 150)\n",
    "    return np.histogram(edges.ravel(), bins=256, density=True)[0]"
   ]
  },
  {
   "cell_type": "code",
   "execution_count": null,
   "id": "ade78675",
   "metadata": {},
   "outputs": [],
   "source": [
    "canny_feats = []\n",
    "for image in images:\n",
    "    canny_edge_feats = extract_edge_features(image)\n",
    "    canny_feats.append(canny_edge_feats)\n",
    "\n",
    "canny_feats = np.array(canny_feats)"
   ]
  },
  {
   "cell_type": "markdown",
   "id": "6181f910",
   "metadata": {},
   "source": [
    "## for HoG"
   ]
  },
  {
   "cell_type": "markdown",
   "id": "ab75f8a0",
   "metadata": {},
   "source": [
    "## Models"
   ]
  },
  {
   "cell_type": "code",
   "execution_count": null,
   "id": "b67978ad",
   "metadata": {},
   "outputs": [],
   "source": [
    "X_train, X_test, y_train, y_test = train_test_split(features, labels, test_size=0.2, random_state=42)\n",
    "\n",
    "scaler = StandardScaler()\n",
    "X_train = scaler.fit_transform(X_train)\n",
    "X_test = scaler.transform(X_test)"
   ]
  },
  {
   "cell_type": "markdown",
   "id": "d56f2597",
   "metadata": {},
   "source": [
    "### SVM Classifier"
   ]
  },
  {
   "cell_type": "code",
   "execution_count": null,
   "id": "f22bbaf1",
   "metadata": {},
   "outputs": [],
   "source": [
    "svm_model = SVC(kernel='linear')\n",
    "svm_model.fit(X_train, y_train)\n",
    "y_pred_svm = svm_model.predict(X_test)\n",
    "svm_acc = accuracy_score(y_test, y_pred_svm)\n",
    "print(f\"SVM Accuracy: {svm_acc:.4f}\")"
   ]
  },
  {
   "cell_type": "code",
   "execution_count": null,
   "id": "d29c1970",
   "metadata": {},
   "outputs": [],
   "source": [
    "plot_confusion_matrix(y_test, y_pred_svm, \"SVM Confusion Matrix\")"
   ]
  },
  {
   "cell_type": "markdown",
   "id": "75e04cf7",
   "metadata": {},
   "source": [
    "### MLP Classifier"
   ]
  },
  {
   "cell_type": "code",
   "execution_count": null,
   "id": "e222544b",
   "metadata": {},
   "outputs": [],
   "source": [
    "nn_model = MLPClassifier(hidden_layer_sizes=(128, 64), max_iter=500, random_state=42)\n",
    "nn_model.fit(X_train, y_train)\n",
    "y_pred_nn = nn_model.predict(X_test)\n",
    "nn_acc = accuracy_score(y_test, y_pred_nn)\n",
    "print(f\"Neural Network Accuracy: {nn_acc:.4f}\")"
   ]
  },
  {
   "cell_type": "code",
   "execution_count": null,
   "id": "8bcaf7ba",
   "metadata": {},
   "outputs": [],
   "source": [
    "plot_confusion_matrix(y_test, y_pred_nn, \"Neural Network Confusion Matrix\")"
   ]
  },
  {
   "cell_type": "markdown",
   "id": "c000c9a5",
   "metadata": {},
   "source": [
    "## Comparison"
   ]
  },
  {
   "cell_type": "code",
   "execution_count": null,
   "id": "67dcb41d",
   "metadata": {},
   "outputs": [],
   "source": [
    "print(\"\\nClassifier Comparison:\")\n",
    "print(f\"SVM Accuracy: {svm_acc:.4f}\")\n",
    "print(f\"Neural Network Accuracy: {nn_acc:.4f}\")"
   ]
  },
  {
   "cell_type": "markdown",
   "id": "8dc03a3a",
   "metadata": {},
   "source": [
    "## for Canny Edge"
   ]
  },
  {
   "cell_type": "code",
   "execution_count": null,
   "id": "d2168b0e",
   "metadata": {},
   "outputs": [],
   "source": [
    "X_train_canny, X_test_canny, y_train_canny, y_test_canny = train_test_split(canny_feats, labels, test_size=0.2, random_state=42)\n",
    "\n",
    "scaler = StandardScaler()\n",
    "X_train_canny = scaler.fit_transform(X_train_canny)\n",
    "X_test_canny = scaler.transform(X_test_canny)"
   ]
  },
  {
   "cell_type": "markdown",
   "id": "e876a42d",
   "metadata": {},
   "source": [
    "### SVM Classifier"
   ]
  },
  {
   "cell_type": "code",
   "execution_count": null,
   "id": "95e27c14",
   "metadata": {},
   "outputs": [],
   "source": [
    "svm_model_canny = SVC(kernel='linear')\n",
    "svm_model_canny.fit(X_train_canny, y_train_canny)\n",
    "y_pred_canny_svm = svm_model_canny.predict(X_test_canny)\n",
    "svm_acc_canny = accuracy_score(y_test_canny, y_pred_canny_svm)\n",
    "print(f\"SVM Accuracy Canny: {svm_acc_canny:.4f}\")"
   ]
  },
  {
   "cell_type": "code",
   "execution_count": null,
   "id": "2b1a0970",
   "metadata": {},
   "outputs": [],
   "source": [
    "plot_confusion_matrix(y_test_canny, y_pred_canny_svm, \"SVM Confusion Matrix for Canny\")"
   ]
  },
  {
   "cell_type": "markdown",
   "id": "1b67cd37",
   "metadata": {},
   "source": [
    "### MLP Classifier"
   ]
  },
  {
   "cell_type": "code",
   "execution_count": null,
   "id": "13ae388d",
   "metadata": {},
   "outputs": [],
   "source": [
    "nn_model_canny = MLPClassifier(hidden_layer_sizes=(128, 64), max_iter=500, random_state=42)\n",
    "nn_model_canny.fit(X_train_canny, y_train_canny)\n",
    "y_pred_nn_canny = nn_model_canny.predict(X_test_canny)\n",
    "nn_acc_canny = accuracy_score(y_test_canny, y_pred_nn_canny)\n",
    "print(f\"Neural Network Accuracy Canny: {nn_acc_canny:.4f}\")"
   ]
  },
  {
   "cell_type": "code",
   "execution_count": null,
   "id": "3e90f0d0",
   "metadata": {},
   "outputs": [],
   "source": [
    "plot_confusion_matrix(y_test_canny, y_pred_nn_canny, \"Neural Network Confusion Matrix Canny\")"
   ]
  },
  {
   "cell_type": "markdown",
   "id": "80dcd3bd",
   "metadata": {
    "id": "JS9WiDUZ0Ybl"
   },
   "source": [
    "# Part 2"
   ]
  },
  {
   "cell_type": "code",
   "execution_count": null,
   "id": "fb8379fd",
   "metadata": {
    "id": "rJH2vbrB1VJB"
   },
   "outputs": [],
   "source": [
    "!git clone https://github.com/chandrikadeb7/Face-Mask-Detection.git"
   ]
  },
  {
   "cell_type": "code",
   "execution_count": null,
   "id": "b772fc79",
   "metadata": {
    "id": "x7gWXEtj0c1w"
   },
   "outputs": [],
   "source": [
    "import os\n",
    "import cv2\n",
    "import matplotlib.pyplot as plt\n",
    "import numpy as np"
   ]
  },
  {
   "cell_type": "markdown",
   "id": "9054ab68",
   "metadata": {
    "id": "TtOayTTN4siL"
   },
   "source": [
    "### CNN Classifier"
   ]
  },
  {
   "cell_type": "code",
   "execution_count": null,
   "id": "09422cdf",
   "metadata": {
    "id": "MGP-ddHawbHG"
   },
   "outputs": [],
   "source": [
    "input_shape = (128, 128, 3)"
   ]
  },
  {
   "cell_type": "markdown",
   "id": "9d8188e8",
   "metadata": {
    "id": "EmGUBo-KwSHF"
   },
   "source": [
    "#### Model"
   ]
  },
  {
   "cell_type": "code",
   "execution_count": null,
   "id": "6a02f537",
   "metadata": {
    "id": "1mtpyRT5wVcd"
   },
   "outputs": [],
   "source": [
    "from keras import layers, models, Sequential\n",
    "from keras.regularizers import l2\n",
    "\n",
    "model = Sequential([\n",
    "    layers.Conv2D(32, (3, 3), activation='relu', input_shape=input_shape),\n",
    "    layers.MaxPooling2D(2, 2),\n",
    "\n",
    "    layers.Conv2D(64, (3, 3), activation='relu'),\n",
    "    layers.MaxPooling2D(2, 2),\n",
    "\n",
    "    layers.Flatten(),\n",
    "    layers.Dense(64, activation='relu'),\n",
    "    layers.Dropout(0.5),\n",
    "    layers.Dense(1, activation=\"sigmoid\")\n",
    "])"
   ]
  },
  {
   "cell_type": "markdown",
   "id": "1116ac4b",
   "metadata": {
    "id": "sszQ58mb6lVV"
   },
   "source": [
    "#### Load a Model"
   ]
  },
  {
   "cell_type": "code",
   "execution_count": null,
   "id": "263f9c1f",
   "metadata": {
    "id": "j3oUXxVA6oLD"
   },
   "outputs": [],
   "source": [
    "from keras import models\n",
    "\n",
    "model = models.load_model(\"/content/mask_detection_model_small.h5\")\n",
    "\n",
    "model.summary()"
   ]
  },
  {
   "cell_type": "markdown",
   "id": "5ca40f5a",
   "metadata": {
    "id": "18zyjAcHwNGL"
   },
   "source": [
    "#### Training"
   ]
  },
  {
   "cell_type": "code",
   "execution_count": null,
   "id": "798ae06c",
   "metadata": {
    "id": "m7Tf-fNNVfJW"
   },
   "outputs": [],
   "source": [
    "from keras.optimizers import Adam, SGD\n",
    "from keras.losses import BinaryCrossentropy\n",
    "\n",
    "optimizers = {\n",
    "    \"adam\": Adam(learning_rate=0.001),\n",
    "    \"sgd\": SGD(learning_rate=0.001, momentum=0.9)\n",
    "}\n",
    "\n",
    "losses = {\n",
    "    \"bce\": BinaryCrossentropy(label_smoothing=0.10),\n",
    "    \"scce\": \"sparse_categorical_crossentropy\"\n",
    "}\n",
    "model.compile(optimizer=optimizers[\"adam\"], loss=losses[\"bce\"], metrics=['accuracy'])\n",
    "\n"
   ]
  },
  {
   "cell_type": "code",
   "execution_count": null,
   "id": "a9d10c1d",
   "metadata": {
    "collapsed": true,
    "id": "29W7mMLsMDhy"
   },
   "outputs": [],
   "source": [
    "# preprocessing:\n",
    "from tensorflow.keras.preprocessing.image import ImageDataGenerator\n",
    "\n",
    "# Define ImageDataGenerator for real-time augmentation and memory efficiency\n",
    "train_datagen = ImageDataGenerator(rescale=1./255, validation_split=0.2)  # Normalize pixel values\n",
    "\n",
    "batch_size = 32\n",
    "# Load train and validation sets using flow_from_directory\n",
    "train_generator = train_datagen.flow_from_directory(\n",
    "    'Face-Mask-Detection/dataset/',\n",
    "    target_size=input_shape[:2],\n",
    "    batch_size=batch_size,\n",
    "    class_mode='binary',\n",
    "    subset='training'  # Training set\n",
    ")\n",
    "\n",
    "val_generator = train_datagen.flow_from_directory(\n",
    "    'Face-Mask-Detection/dataset/',\n",
    "    target_size=input_shape[:2],\n",
    "    batch_size=batch_size,\n",
    "    class_mode='binary',\n",
    "    subset='validation'  # Validation set\n",
    ")\n"
   ]
  },
  {
   "cell_type": "code",
   "execution_count": null,
   "id": "f0cb9104",
   "metadata": {
    "id": "x6QxX7IEPkXl"
   },
   "outputs": [],
   "source": [
    "from sklearn.utils.class_weight import compute_class_weight\n",
    "import numpy as np\n",
    "\n",
    "# Get class labels from generator\n",
    "labels = train_generator.classes  # Get all training labels\n",
    "\n",
    "# Compute class weights\n",
    "class_weights = compute_class_weight(class_weight='balanced', classes=np.unique(labels), y=labels)\n",
    "class_weights_dict = dict(enumerate(class_weights))\n",
    "\n",
    "print(\"Class Weights:\", class_weights)\n",
    "\n",
    "val_labels = val_generator.classes  # Get all validation labels\n",
    "val_class_weights = compute_class_weight(class_weight='balanced', classes=np.unique(val_labels), y=val_labels)\n",
    "val_class_weights_dict = dict(enumerate(val_class_weights))\n",
    "\n",
    "print(\"Validation Class Weights:\", val_class_weights)"
   ]
  },
  {
   "cell_type": "code",
   "execution_count": null,
   "id": "b3e6c965",
   "metadata": {
    "id": "jLtFFlBF5-0x"
   },
   "outputs": [],
   "source": [
    "from tensorflow.keras.callbacks import EarlyStopping\n",
    "\n",
    "early_stopping = EarlyStopping(\n",
    "    monitor='val_loss',\n",
    "    patience=5,  # Keep patience at 10\n",
    "    min_delta=0.001,  # Ignore very small improvements\n",
    "    restore_best_weights=True\n",
    ")\n",
    "\n",
    "history = model.fit(\n",
    "    train_generator,\n",
    "    epochs=20,\n",
    "    class_weight=class_weights_dict,\n",
    "    validation_data=val_generator,\n",
    "    callbacks=[early_stopping]\n",
    ")"
   ]
  },
  {
   "cell_type": "code",
   "execution_count": null,
   "id": "d9e6e37b",
   "metadata": {
    "id": "d385jj2fXYet"
   },
   "outputs": [],
   "source": [
    "import numpy as np\n",
    "from sklearn.metrics import precision_recall_curve\n",
    "\n",
    "# Get prediction probabilities\n",
    "y_pred_probs = model.predict(val_generator)\n",
    "y_true = val_generator.classes\n",
    "\n",
    "# Handle cases where model outputs two probabilities (for binary classification)\n",
    "if y_pred_probs.shape[1] == 2:\n",
    "    y_pred_probs = y_pred_probs[:, 1]  # Use probability of the positive class\n",
    "\n",
    "# Compute precision-recall curve\n",
    "precisions, recalls, thresholds = precision_recall_curve(y_true, y_pred_probs)\n",
    "\n",
    "# Compute F1 scores\n",
    "f1_scores = 2 * (precisions * recalls) / (precisions + recalls + 1e-10)  # Avoid division by zero\n",
    "\n",
    "# Find best threshold (maximize F1-score)\n",
    "best_threshold = thresholds[np.argmax(f1_scores)]\n",
    "\n",
    "print(f\"Best Threshold: {best_threshold:.4f}\")\n",
    "\n",
    "# Apply threshold for classification\n",
    "y_pred_new = (y_pred_probs > best_threshold).astype(int)\n"
   ]
  },
  {
   "cell_type": "code",
   "execution_count": null,
   "id": "09ae5105",
   "metadata": {
    "id": "ui5pUnhRXlvU"
   },
   "outputs": [],
   "source": [
    "import matplotlib.pyplot as plt\n",
    "\n",
    "plt.hist(y_pred_probs, bins=50, edgecolor=\"black\")\n",
    "plt.xlabel(\"Predicted Probability\")\n",
    "plt.ylabel(\"Frequency\")\n",
    "plt.title(\"Distribution of Predicted Probabilities\")\n",
    "plt.show()"
   ]
  },
  {
   "cell_type": "code",
   "execution_count": null,
   "id": "05cda22c",
   "metadata": {
    "id": "mSD_RQVvUinp"
   },
   "outputs": [],
   "source": [
    "from sklearn.metrics import classification_report\n",
    "import numpy as np\n",
    "\n",
    "# Get predictions (probabilities)\n",
    "y_pred = model.predict(val_generator)\n",
    "\n",
    "# Handle cases where model outputs two probabilities (for binary classification)\n",
    "if y_pred.shape[1] == 2:\n",
    "    y_pred = y_pred[:, 1]  # Take probability of the positive class\n",
    "\n",
    "# Convert probabilities to class labels using a default threshold of 0.5\n",
    "y_pred_classes = (y_pred > 0.5).astype(int)\n",
    "\n",
    "# Get true labels\n",
    "y_true = val_generator.classes\n",
    "\n",
    "# Print Classification Report\n",
    "print(classification_report(y_true, y_pred_classes, target_names=['No Mask', 'Mask']))\n"
   ]
  },
  {
   "cell_type": "code",
   "execution_count": null,
   "id": "6ad986d1",
   "metadata": {
    "id": "dWBw2b0IS_At"
   },
   "outputs": [],
   "source": [
    "import matplotlib.pyplot as plt\n",
    "\n",
    "plt.plot(history.history['loss'], label='Train Loss')\n",
    "plt.plot(history.history['val_loss'], label='Val Loss')\n",
    "plt.legend()\n",
    "plt.show()"
   ]
  },
  {
   "cell_type": "code",
   "execution_count": null,
   "id": "01c3f749",
   "metadata": {
    "id": "7D7veavdgx_8"
   },
   "outputs": [],
   "source": [
    "# save the model\n",
    "model.save('mask_detection_model_small.h5')"
   ]
  },
  {
   "cell_type": "markdown",
   "id": "80337f3f",
   "metadata": {
    "id": "_95RF5j1iMUG"
   },
   "source": [
    "#### Evaluating on entire dataset"
   ]
  },
  {
   "cell_type": "code",
   "execution_count": null,
   "id": "263f5698",
   "metadata": {
    "id": "DZ8ZK_yGiQtB"
   },
   "outputs": [],
   "source": [
    "# load the model\n",
    "from tensorflow.keras.models import load_model\n",
    "# model = load_model('mask_detection_model_first.h5')\n",
    "\n",
    "# evaluate on entire dataset\n",
    "test_datagen = ImageDataGenerator(rescale=1./255)\n",
    "\n",
    "test_generator = test_datagen.flow_from_directory(\n",
    "    'Face-Mask-Detection/dataset/',\n",
    "    target_size=input_shape[:2],\n",
    "    batch_size=32,\n",
    "    class_mode='binary',\n",
    "    shuffle=False\n",
    ")\n",
    "\n",
    "test_loss, test_acc = model.evaluate(test_generator)\n",
    "print(f\"Test Accuracy: {test_acc}\")"
   ]
  }
 ],
 "metadata": {
  "language_info": {
   "name": "python"
  }
 },
 "nbformat": 4,
 "nbformat_minor": 5
}
