{
 "cells": [
  {
   "cell_type": "markdown",
   "id": "87695476",
   "metadata": {
    "id": "9MOFMil8pDh4"
   },
   "source": [
    "## Region-Based Segmentation"
   ]
  },
  {
   "cell_type": "markdown",
   "metadata": {},
   "source": [
    "# PART 3"
   ]
  },
  {
   "cell_type": "code",
   "execution_count": null,
   "id": "54017f82",
   "metadata": {
    "id": "Lb-RVGgtpUbs"
   },
   "outputs": [],
   "source": [
    "import cv2\n",
    "import matplotlib.pyplot as plt\n",
    "import numpy as np\n",
    "from google.colab.patches import cv2_imshow\n",
    "\n",
    "# access google drive\n",
    "from google.colab import drive\n",
    "drive.mount('/content/drive')\n"
   ]
  },
  {
   "cell_type": "code",
   "execution_count": null,
   "id": "b41bee87",
   "metadata": {
    "id": "a4tj2Ynh0_RR"
   },
   "outputs": [],
   "source": [
    "import zipfile\n",
    "\n",
    "zip_path = '/content/drive/MyDrive/Colab Notebooks/MSFD.zip'\n",
    "\n",
    "with zipfile.ZipFile(zip_path, 'r') as zip_ref:\n",
    "    zip_ref.extractall('/content/') # Extracts to the current working directory (/content/)\n"
   ]
  },
  {
   "cell_type": "markdown",
   "id": "2e4fda3f",
   "metadata": {
    "id": "jNIp50vrpI6A"
   },
   "source": [
    "### Otsu thresholding"
   ]
  },
  {
   "cell_type": "code",
   "execution_count": null,
   "id": "9bbdeafa",
   "metadata": {
    "id": "4x-yB6IQ8Fw4"
   },
   "outputs": [],
   "source": [
    "import cv2\n",
    "import numpy as np\n",
    "import os\n",
    "import random\n",
    "\n",
    "def calculate_IoU(original_image, thresholded_image):\n",
    "    # Compute IoU\n",
    "    # Reshape to the shape fo the thresholded_image\n",
    "    original_image = cv2.resize(original_image, (thresholded_image.shape[1], thresholded_image.shape[0]))\n",
    "    intersection = np.logical_and(original_image, thresholded_image)\n",
    "    union = np.logical_or(original_image, thresholded_image)\n",
    "    iou_score = np.sum(intersection) / np.sum(union)\n",
    "    return iou_score\n",
    "\n",
    "def calculate_Dice(original_image, thresholded_image):\n",
    "    # calculate dice score\n",
    "    # Reshape to the shape fo the thresholded_image\n",
    "    original_image = cv2.resize(original_image, (thresholded_image.shape[1], thresholded_image.shape[0]))\n",
    "    intersection = np.logical_and(original_image, thresholded_image)\n",
    "    dice_score = 2.0 * np.sum(intersection) / (np.sum(original_image) + np.sum(thresholded_image))\n",
    "    return dice_score\n",
    "\n",
    "train_folder = '/content/MSFD/1/face_crop'\n",
    "test_folder = '/content/MSFD/1/face_crop_segmentation'\n",
    "\n",
    "train_images = os.listdir(train_folder)\n",
    "test_images = os.listdir(test_folder)\n",
    "\n",
    "# Create sets for quick lookup\n",
    "test_image_set = set(test_images)\n",
    "\n",
    "total_iou = 0\n",
    "total_dice = 0\n",
    "image_count = 0\n",
    "unmatched_count = 0\n",
    "\n",
    "for train_filename in train_images:\n",
    "    if train_filename in test_image_set:\n",
    "        image_path = os.path.join(train_folder, train_filename)\n",
    "        gt_path = os.path.join(test_folder, train_filename)\n",
    "\n",
    "        image = cv2.imread(image_path, cv2.IMREAD_GRAYSCALE)\n",
    "        gt = cv2.imread(gt_path, cv2.IMREAD_GRAYSCALE)\n",
    "\n",
    "        if image is not None and gt is not None:\n",
    "            # Apply Otsu's thresholding\n",
    "            _, thresholded_image = cv2.threshold(image, 0, 255, cv2.THRESH_BINARY + cv2.THRESH_OTSU)\n",
    "\n",
    "            iou = calculate_IoU(gt, thresholded_image)\n",
    "            total_iou += iou\n",
    "            dice = calculate_Dice(gt, thresholded_image)\n",
    "            total_dice += dice\n",
    "            image_count += 1\n",
    "    else:\n",
    "        unmatched_count += 1\n",
    "\n",
    "if image_count > 0:\n",
    "    average_iou = total_iou / image_count\n",
    "    average_dice = total_dice / image_count\n",
    "    print(\"IoU for Otsu thresholding:\", average_iou)\n",
    "    print(\"Dice for Otsu thresholding:\", average_dice)\n",
    "    print(\"Unmatched images:\", unmatched_count)\n",
    "else:\n",
    "    print(\"No matching images found in the specified folders.\")\n"
   ]
  }
 ],
 "metadata": {
  "accelerator": "GPU",
  "colab": {
   "collapsed_sections": [
    "9MOFMil8pDh4",
    "y7KeMGyLVECM",
    "hw2pfrklwCJm",
    "BBYjM8G2wI-X",
    "FKiXwWiMw1MP"
   ],
   "gpuType": "T4",
   "provenance": []
  },
  "kernelspec": {
   "display_name": "Python 3",
   "name": "python3"
  },
  "language_info": {
   "name": "python"
  }
 },
 "nbformat": 4,
 "nbformat_minor": 0
}
